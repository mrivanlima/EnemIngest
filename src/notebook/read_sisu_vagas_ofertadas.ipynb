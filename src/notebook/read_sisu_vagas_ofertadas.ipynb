{
 "cells": [
  {
   "cell_type": "code",
   "execution_count": 26,
   "metadata": {},
   "outputs": [],
   "source": [
    "import pandas as pd\n",
    "from sqlalchemy import create_engine, text"
   ]
  },
  {
   "cell_type": "code",
   "execution_count": 27,
   "metadata": {},
   "outputs": [],
   "source": [
    "excel_file_path = \"../../data/vagas_ofertadas/2019_2025/Portal_Sisu 2024_Vagas ofertadas.xlsx\"\n",
    "df = pd.read_excel(excel_file_path, sheet_name=1)"
   ]
  },
  {
   "cell_type": "code",
   "execution_count": 28,
   "metadata": {},
   "outputs": [
    {
     "name": "stdout",
     "output_type": "stream",
     "text": [
      "   edicao  co_ies                                         no_ies  sg_ies  \\\n",
      "0    2024   25275  UNIVERSIDADE FEDERAL DO AGRESTE DE PERNAMBUCO  UFAPE    \n",
      "1    2024   25275  UNIVERSIDADE FEDERAL DO AGRESTE DE PERNAMBUCO  UFAPE    \n",
      "2    2024   25275  UNIVERSIDADE FEDERAL DO AGRESTE DE PERNAMBUCO  UFAPE    \n",
      "3    2024   25275  UNIVERSIDADE FEDERAL DO AGRESTE DE PERNAMBUCO  UFAPE    \n",
      "4    2024   25275  UNIVERSIDADE FEDERAL DO AGRESTE DE PERNAMBUCO  UFAPE    \n",
      "\n",
      "  ds_organizacao_academica ds_categoria_adm     no_campus no_municipio_campus  \\\n",
      "0             Universidade  Pública Federal  Unidade SEDE           Garanhuns   \n",
      "1             Universidade  Pública Federal  Unidade SEDE           Garanhuns   \n",
      "2             Universidade  Pública Federal  Unidade SEDE           Garanhuns   \n",
      "3             Universidade  Pública Federal  Unidade SEDE           Garanhuns   \n",
      "4             Universidade  Pública Federal  Unidade SEDE           Garanhuns   \n",
      "\n",
      "  sg_uf_campus ds_regiao  ...  perc_uf_pp perc_uf_i perc_uf_q perc_uf_pcd  \\\n",
      "0           PE  Nordeste  ...      0.6531    0.0118    0.0087      0.0986   \n",
      "1           PE  Nordeste  ...      0.6531    0.0118    0.0087      0.0986   \n",
      "2           PE  Nordeste  ...      0.6531    0.0118    0.0087      0.0986   \n",
      "3           PE  Nordeste  ...      0.6531    0.0118    0.0087      0.0986   \n",
      "4           PE  Nordeste  ...      0.6531    0.0118    0.0087      0.0986   \n",
      "\n",
      "  nu_perc_lei  nu_perc_ppi  nu_perc_pp  nu_perc_i  nu_perc_q nu_perc_pcd  \n",
      "0          50        66.49         NaN        NaN       0.87        9.86  \n",
      "1          50        66.49         NaN        NaN       0.87        9.86  \n",
      "2          50        66.49         NaN        NaN       0.87        9.86  \n",
      "3          50        66.49         NaN        NaN       0.87        9.86  \n",
      "4          50        66.49         NaN        NaN       0.87        9.86  \n",
      "\n",
      "[5 rows x 44 columns]\n"
     ]
    }
   ],
   "source": [
    "df.columns = df.columns.str.replace(' ', '_').str.lower()\n",
    "print(df.head())"
   ]
  },
  {
   "cell_type": "code",
   "execution_count": 29,
   "metadata": {},
   "outputs": [],
   "source": [
    "db_user = \"postgres\"\n",
    "db_password = \"123456\"\n",
    "db_host = \"localhost\"\n",
    "db_port = \"5431\"\n",
    "db_name = \"enem\"\n",
    "\n",
    "engine = create_engine(f'postgresql://{db_user}:{db_password}@{db_host}:{db_port}/{db_name}')"
   ]
  },
  {
   "cell_type": "code",
   "execution_count": 30,
   "metadata": {},
   "outputs": [],
   "source": [
    "with engine.connect() as connection:\n",
    "    connection.execute(text(\"CREATE SCHEMA IF NOT EXISTS imp;\"))"
   ]
  },
  {
   "cell_type": "code",
   "execution_count": 31,
   "metadata": {},
   "outputs": [
    {
     "name": "stdout",
     "output_type": "stream",
     "text": [
      "Table 'enem2024' has been successfully created in the 'app' schema of the database 'enem'.\n"
     ]
    }
   ],
   "source": [
    "table_name = \"enem2024\"\n",
    "\n",
    "df.to_sql(\n",
    "    name=table_name,\n",
    "    con=engine,\n",
    "    schema=\"imp\",\n",
    "    if_exists=\"replace\",\n",
    "    index=False\n",
    ")\n",
    "\n",
    "print(f\"Table '{table_name}' has been successfully created in the 'app' schema of the database '{db_name}'.\")"
   ]
  }
 ],
 "metadata": {
  "kernelspec": {
   "display_name": "Python 3",
   "language": "python",
   "name": "python3"
  },
  "language_info": {
   "codemirror_mode": {
    "name": "ipython",
    "version": 3
   },
   "file_extension": ".py",
   "mimetype": "text/x-python",
   "name": "python",
   "nbconvert_exporter": "python",
   "pygments_lexer": "ipython3",
   "version": "3.13.1"
  }
 },
 "nbformat": 4,
 "nbformat_minor": 2
}
