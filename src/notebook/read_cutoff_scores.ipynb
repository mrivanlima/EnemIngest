{
 "cells": [
  {
   "cell_type": "code",
   "execution_count": 10,
   "metadata": {},
   "outputs": [],
   "source": [
    "import pandas as pd\n",
    "from sqlalchemy import create_engine, text"
   ]
  },
  {
   "cell_type": "code",
   "execution_count": 11,
   "metadata": {},
   "outputs": [],
   "source": [
    "excel_file_path = \"../../data/notas_de_corte/Portal Sisu_Sisu 2024_Inscrições e notas de corte.xlsx\"\n",
    "df = pd.read_excel(excel_file_path, sheet_name=1)"
   ]
  },
  {
   "cell_type": "code",
   "execution_count": 12,
   "metadata": {},
   "outputs": [
    {
     "name": "stdout",
     "output_type": "stream",
     "text": [
      "   edicao  co_ies                                         no_ies  sg_ies  \\\n",
      "0    2024   25275  UNIVERSIDADE FEDERAL DO AGRESTE DE PERNAMBUCO  UFAPE    \n",
      "1    2024   25275  UNIVERSIDADE FEDERAL DO AGRESTE DE PERNAMBUCO  UFAPE    \n",
      "2    2024   25275  UNIVERSIDADE FEDERAL DO AGRESTE DE PERNAMBUCO  UFAPE    \n",
      "3    2024   25275  UNIVERSIDADE FEDERAL DO AGRESTE DE PERNAMBUCO  UFAPE    \n",
      "4    2024   25275  UNIVERSIDADE FEDERAL DO AGRESTE DE PERNAMBUCO  UFAPE    \n",
      "\n",
      "  ds_organizacao_academica ds_categoria_adm     no_campus no_municipio_campus  \\\n",
      "0             Universidade  Pública Federal  Unidade SEDE           Garanhuns   \n",
      "1             Universidade  Pública Federal  Unidade SEDE           Garanhuns   \n",
      "2             Universidade  Pública Federal  Unidade SEDE           Garanhuns   \n",
      "3             Universidade  Pública Federal  Unidade SEDE           Garanhuns   \n",
      "4             Universidade  Pública Federal  Unidade SEDE           Garanhuns   \n",
      "\n",
      "  sg_uf_campus ds_regiao_campus  ...   no_curso       ds_grau    ds_turno  \\\n",
      "0           PE         Nordeste  ...  PEDAGOGIA  Licenciatura  Vespertino   \n",
      "1           PE         Nordeste  ...  PEDAGOGIA  Licenciatura  Vespertino   \n",
      "2           PE         Nordeste  ...  PEDAGOGIA  Licenciatura  Vespertino   \n",
      "3           PE         Nordeste  ...  PEDAGOGIA  Licenciatura  Vespertino   \n",
      "4           PE         Nordeste  ...  PEDAGOGIA  Licenciatura  Vespertino   \n",
      "\n",
      "  tp_mod_concorrencia tipo_concorrencia  \\\n",
      "0                   L           LB_PPI    \n",
      "1                   L           LI_PPI    \n",
      "2                   L           LB_Q      \n",
      "3                   L           LI_Q      \n",
      "4                   L           LB_PCD    \n",
      "\n",
      "                                 ds_mod_concorrencia nu_percentual_bonus  \\\n",
      "0  Candidatos autodeclarados pretos, pardos ou in...                   0   \n",
      "1  Candidatos autodeclarados pretos, pardos ou in...                   0   \n",
      "2  Candidatos autodeclarados quilombolas, com ren...                   0   \n",
      "3  Candidatos autodeclarados quilombolas, indepen...                   0   \n",
      "4  Candidatos com deficiência, que tenham renda f...                   0   \n",
      "\n",
      "   qt_vagas_ofertadas  nu_notacorte  qt_inscricao  \n",
      "0                 4.0        556.44            85  \n",
      "1                 4.0        581.48            23  \n",
      "2                 1.0        526.29             4  \n",
      "3                 0.0           NaN             0  \n",
      "4                 1.0           NaN             1  \n",
      "\n",
      "[5 rows x 21 columns]\n"
     ]
    }
   ],
   "source": [
    "df.columns = df.columns.str.replace(' ', '_').str.lower()\n",
    "print(df.head())"
   ]
  },
  {
   "cell_type": "code",
   "execution_count": 13,
   "metadata": {},
   "outputs": [],
   "source": [
    "db_user = \"postgres\"\n",
    "db_password = \"123456\"\n",
    "db_host = \"localhost\"\n",
    "db_port = \"5431\"\n",
    "db_name = \"enem\"\n",
    "\n",
    "engine = create_engine(f'postgresql://{db_user}:{db_password}@{db_host}:{db_port}/{db_name}')"
   ]
  },
  {
   "cell_type": "code",
   "execution_count": 14,
   "metadata": {},
   "outputs": [],
   "source": [
    "with engine.connect() as connection:\n",
    "    connection.execute(text(\"CREATE SCHEMA IF NOT EXISTS imp;\"))"
   ]
  },
  {
   "cell_type": "code",
   "execution_count": 15,
   "metadata": {},
   "outputs": [
    {
     "name": "stdout",
     "output_type": "stream",
     "text": [
      "Table 'enem2024' has been successfully created in the 'app' schema of the database 'enem'.\n"
     ]
    }
   ],
   "source": [
    "table_name = \"enem2024\"\n",
    "\n",
    "df.to_sql(\n",
    "    name=table_name,\n",
    "    con=engine,\n",
    "    schema=\"imp\",\n",
    "    if_exists=\"replace\",\n",
    "    index=False\n",
    ")\n",
    "\n",
    "print(f\"Table '{table_name}' has been successfully created in the 'app' schema of the database '{db_name}'.\")\n"
   ]
  }
 ],
 "metadata": {
  "kernelspec": {
   "display_name": "venv",
   "language": "python",
   "name": "python3"
  },
  "language_info": {
   "codemirror_mode": {
    "name": "ipython",
    "version": 3
   },
   "file_extension": ".py",
   "mimetype": "text/x-python",
   "name": "python",
   "nbconvert_exporter": "python",
   "pygments_lexer": "ipython3",
   "version": "3.13.1"
  }
 },
 "nbformat": 4,
 "nbformat_minor": 2
}
